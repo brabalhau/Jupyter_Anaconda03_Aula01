{
 "cells": [
  {
   "cell_type": "code",
   "execution_count": 1,
   "id": "6bf795e7",
   "metadata": {},
   "outputs": [],
   "source": [
    "import pyautogui as pgui\n",
    "import pyperclip as pcli\n",
    "import time\n",
    "import pandas as pd"
   ]
  },
  {
   "cell_type": "markdown",
   "id": "5569cf69",
   "metadata": {},
   "source": [
    "Exebir posição do cursor"
   ]
  },
  {
   "cell_type": "code",
   "execution_count": 2,
   "id": "372aa386",
   "metadata": {
    "scrolled": false
   },
   "outputs": [
    {
     "name": "stdout",
     "output_type": "stream",
     "text": [
      "Point(x=1177, y=291)\n"
     ]
    }
   ],
   "source": [
    "time.sleep(5)\n",
    "print(pgui.position())"
   ]
  },
  {
   "cell_type": "markdown",
   "id": "bc44e840",
   "metadata": {},
   "source": [
    "Abrir drive e baixar arquivo excel"
   ]
  },
  {
   "cell_type": "code",
   "execution_count": 3,
   "id": "ae69be24",
   "metadata": {},
   "outputs": [],
   "source": [
    "# Entrar no Drive\n",
    "pgui.hotkey(\"ctrl\", \"t\")\n",
    "time.sleep(1)\n",
    "pcli.copy(\"https://drive.google.com/drive/folders/149xknr9JvrlEnhNWO49zPcw0PW5icxga\")\n",
    "pgui.hotkey(\"ctrl\", \"v\")\n",
    "pgui.press(\"enter\")\n",
    "time.sleep(3)\n",
    "\n",
    "# Abrir pasta, baixar e abrir arquivo\n",
    "pgui.click(x=406, y=295, clicks=2)\n",
    "time.sleep(2.5)\n",
    "pgui.rightClick(x=411, y=427)\n",
    "time.sleep(1)\n",
    "pgui.click(x=512, y=869)\n"
   ]
  },
  {
   "cell_type": "markdown",
   "id": "7f878170",
   "metadata": {},
   "source": [
    "Puxar aquivo Excel"
   ]
  },
  {
   "cell_type": "code",
   "execution_count": 4,
   "id": "81f39343",
   "metadata": {},
   "outputs": [
    {
     "data": {
      "text/html": [
       "<div>\n",
       "<style scoped>\n",
       "    .dataframe tbody tr th:only-of-type {\n",
       "        vertical-align: middle;\n",
       "    }\n",
       "\n",
       "    .dataframe tbody tr th {\n",
       "        vertical-align: top;\n",
       "    }\n",
       "\n",
       "    .dataframe thead th {\n",
       "        text-align: right;\n",
       "    }\n",
       "</style>\n",
       "<table border=\"1\" class=\"dataframe\">\n",
       "  <thead>\n",
       "    <tr style=\"text-align: right;\">\n",
       "      <th></th>\n",
       "      <th>Código Venda</th>\n",
       "      <th>Data</th>\n",
       "      <th>ID Loja</th>\n",
       "      <th>Produto</th>\n",
       "      <th>Quantidade</th>\n",
       "      <th>Valor Unitário</th>\n",
       "      <th>Valor Final</th>\n",
       "    </tr>\n",
       "  </thead>\n",
       "  <tbody>\n",
       "    <tr>\n",
       "      <th>0</th>\n",
       "      <td>65014</td>\n",
       "      <td>2019-12-01</td>\n",
       "      <td>Shopping Morumbi</td>\n",
       "      <td>Sunga Listrado</td>\n",
       "      <td>5</td>\n",
       "      <td>114</td>\n",
       "      <td>570</td>\n",
       "    </tr>\n",
       "    <tr>\n",
       "      <th>1</th>\n",
       "      <td>65014</td>\n",
       "      <td>2019-12-01</td>\n",
       "      <td>Shopping Morumbi</td>\n",
       "      <td>Casaco Listrado</td>\n",
       "      <td>1</td>\n",
       "      <td>269</td>\n",
       "      <td>269</td>\n",
       "    </tr>\n",
       "    <tr>\n",
       "      <th>2</th>\n",
       "      <td>65016</td>\n",
       "      <td>2019-12-01</td>\n",
       "      <td>Iguatemi Campinas</td>\n",
       "      <td>Sapato Listrado</td>\n",
       "      <td>2</td>\n",
       "      <td>363</td>\n",
       "      <td>726</td>\n",
       "    </tr>\n",
       "    <tr>\n",
       "      <th>3</th>\n",
       "      <td>65016</td>\n",
       "      <td>2019-12-01</td>\n",
       "      <td>Iguatemi Campinas</td>\n",
       "      <td>Casaco</td>\n",
       "      <td>1</td>\n",
       "      <td>250</td>\n",
       "      <td>250</td>\n",
       "    </tr>\n",
       "    <tr>\n",
       "      <th>4</th>\n",
       "      <td>65017</td>\n",
       "      <td>2019-12-01</td>\n",
       "      <td>Shopping SP Market</td>\n",
       "      <td>Gorro Liso</td>\n",
       "      <td>3</td>\n",
       "      <td>92</td>\n",
       "      <td>276</td>\n",
       "    </tr>\n",
       "    <tr>\n",
       "      <th>...</th>\n",
       "      <td>...</td>\n",
       "      <td>...</td>\n",
       "      <td>...</td>\n",
       "      <td>...</td>\n",
       "      <td>...</td>\n",
       "      <td>...</td>\n",
       "      <td>...</td>\n",
       "    </tr>\n",
       "    <tr>\n",
       "      <th>7084</th>\n",
       "      <td>69996</td>\n",
       "      <td>2019-12-26</td>\n",
       "      <td>Center Shopping Uberlândia</td>\n",
       "      <td>Short Listrado</td>\n",
       "      <td>2</td>\n",
       "      <td>102</td>\n",
       "      <td>204</td>\n",
       "    </tr>\n",
       "    <tr>\n",
       "      <th>7085</th>\n",
       "      <td>69996</td>\n",
       "      <td>2019-12-26</td>\n",
       "      <td>Center Shopping Uberlândia</td>\n",
       "      <td>Mochila</td>\n",
       "      <td>4</td>\n",
       "      <td>270</td>\n",
       "      <td>1080</td>\n",
       "    </tr>\n",
       "    <tr>\n",
       "      <th>7086</th>\n",
       "      <td>69996</td>\n",
       "      <td>2019-12-26</td>\n",
       "      <td>Center Shopping Uberlândia</td>\n",
       "      <td>Pulseira Estampa</td>\n",
       "      <td>1</td>\n",
       "      <td>87</td>\n",
       "      <td>87</td>\n",
       "    </tr>\n",
       "    <tr>\n",
       "      <th>7087</th>\n",
       "      <td>69997</td>\n",
       "      <td>2019-12-26</td>\n",
       "      <td>Ribeirão Shopping</td>\n",
       "      <td>Camisa Listrado</td>\n",
       "      <td>1</td>\n",
       "      <td>108</td>\n",
       "      <td>108</td>\n",
       "    </tr>\n",
       "    <tr>\n",
       "      <th>7088</th>\n",
       "      <td>69997</td>\n",
       "      <td>2019-12-26</td>\n",
       "      <td>Ribeirão Shopping</td>\n",
       "      <td>Short Linho</td>\n",
       "      <td>2</td>\n",
       "      <td>133</td>\n",
       "      <td>266</td>\n",
       "    </tr>\n",
       "  </tbody>\n",
       "</table>\n",
       "<p>7089 rows × 7 columns</p>\n",
       "</div>"
      ],
      "text/plain": [
       "      Código Venda       Data                     ID Loja           Produto  \\\n",
       "0            65014 2019-12-01            Shopping Morumbi    Sunga Listrado   \n",
       "1            65014 2019-12-01            Shopping Morumbi   Casaco Listrado   \n",
       "2            65016 2019-12-01           Iguatemi Campinas   Sapato Listrado   \n",
       "3            65016 2019-12-01           Iguatemi Campinas            Casaco   \n",
       "4            65017 2019-12-01          Shopping SP Market        Gorro Liso   \n",
       "...            ...        ...                         ...               ...   \n",
       "7084         69996 2019-12-26  Center Shopping Uberlândia    Short Listrado   \n",
       "7085         69996 2019-12-26  Center Shopping Uberlândia           Mochila   \n",
       "7086         69996 2019-12-26  Center Shopping Uberlândia  Pulseira Estampa   \n",
       "7087         69997 2019-12-26           Ribeirão Shopping   Camisa Listrado   \n",
       "7088         69997 2019-12-26           Ribeirão Shopping       Short Linho   \n",
       "\n",
       "      Quantidade  Valor Unitário  Valor Final  \n",
       "0              5             114          570  \n",
       "1              1             269          269  \n",
       "2              2             363          726  \n",
       "3              1             250          250  \n",
       "4              3              92          276  \n",
       "...          ...             ...          ...  \n",
       "7084           2             102          204  \n",
       "7085           4             270         1080  \n",
       "7086           1              87           87  \n",
       "7087           1             108          108  \n",
       "7088           2             133          266  \n",
       "\n",
       "[7089 rows x 7 columns]"
      ]
     },
     "metadata": {},
     "output_type": "display_data"
    }
   ],
   "source": [
    "time.sleep(5)\n",
    "tabela = pd.read_excel(r\"C:\\Users\\Yuri Lourenço\\Downloads\\Vendas - Dez.xlsx\")\n",
    "display(tabela)\n",
    "\n",
    "faturamento = tabela[\"Valor Final\"].sum()\n",
    "quantidade = tabela[\"Quantidade\"].sum()"
   ]
  },
  {
   "cell_type": "markdown",
   "id": "9e191d0d",
   "metadata": {},
   "source": [
    "Enviar e-mail"
   ]
  },
  {
   "cell_type": "code",
   "execution_count": 14,
   "id": "bff4450c",
   "metadata": {},
   "outputs": [
    {
     "ename": "KeyboardInterrupt",
     "evalue": "",
     "output_type": "error",
     "traceback": [
      "\u001b[1;31m---------------------------------------------------------------------------\u001b[0m",
      "\u001b[1;31mKeyboardInterrupt\u001b[0m                         Traceback (most recent call last)",
      "\u001b[1;32mC:\\Users\\YURILO~1\\AppData\\Local\\Temp/ipykernel_24736/2024312257.py\u001b[0m in \u001b[0;36m<module>\u001b[1;34m\u001b[0m\n\u001b[0;32m     20\u001b[0m \u001b[0mpgui\u001b[0m\u001b[1;33m.\u001b[0m\u001b[0mhotkey\u001b[0m\u001b[1;33m(\u001b[0m\u001b[1;34m\"ctrl\"\u001b[0m\u001b[1;33m,\u001b[0m \u001b[1;34m\"v\"\u001b[0m\u001b[1;33m)\u001b[0m\u001b[1;33m\u001b[0m\u001b[1;33m\u001b[0m\u001b[0m\n\u001b[0;32m     21\u001b[0m \u001b[0mpgui\u001b[0m\u001b[1;33m.\u001b[0m\u001b[0mpress\u001b[0m\u001b[1;33m(\u001b[0m\u001b[1;34m\"tab\"\u001b[0m\u001b[1;33m)\u001b[0m\u001b[1;33m\u001b[0m\u001b[1;33m\u001b[0m\u001b[0m\n\u001b[1;32m---> 22\u001b[1;33m \u001b[0mtime\u001b[0m\u001b[1;33m.\u001b[0m\u001b[0msleep\u001b[0m\u001b[1;33m(\u001b[0m\u001b[1;36m0.5\u001b[0m\u001b[1;33m)\u001b[0m\u001b[1;33m\u001b[0m\u001b[1;33m\u001b[0m\u001b[0m\n\u001b[0m\u001b[0;32m     23\u001b[0m \u001b[1;33m\u001b[0m\u001b[0m\n\u001b[0;32m     24\u001b[0m \u001b[1;31m# Digitar corpo do e-mail\u001b[0m\u001b[1;33m\u001b[0m\u001b[1;33m\u001b[0m\u001b[0m\n",
      "\u001b[1;31mKeyboardInterrupt\u001b[0m: "
     ]
    }
   ],
   "source": [
    "# Entrar no Gmail\n",
    "time.sleep(2)\n",
    "pgui.hotkey(\"ctrl\", \"e\")\n",
    "pcli.copy(\"https://mail.google.com/\")\n",
    "pgui.hotkey(\"ctrl\", \"v\")\n",
    "pgui.press(\"enter\")\n",
    "time.sleep(3)\n",
    "\n",
    "# Abrir aba de e-mail\n",
    "pgui.click(x=106 ,y=199)\n",
    "time.sleep(3)\n",
    "\n",
    "# Digitar titulo do e-mail\n",
    "pgui.typewrite(\"yuriacyy\")\n",
    "time.sleep(0.5)\n",
    "pgui.press(\"tab\", presses=2)\n",
    "\n",
    "# Digitar titulo do e-mail\n",
    "pcli.copy(\"Relatório de Vendas\")\n",
    "pgui.hotkey(\"ctrl\", \"v\")\n",
    "pgui.press(\"tab\")\n",
    "time.sleep(0.5)\n",
    "\n",
    "# Digitar corpo do e-mail\n",
    "text = f\"\"\"\n",
    "Prezados, bom dia\n",
    "\n",
    "O faturamento de ontem foi de R$: {faturamento:,.2f}\n",
    "A quantidade de produtos foi de: {quantidade:,.1f}\n",
    "\n",
    "Att,\n",
    "\n",
    "Logistica\n",
    "\"\"\"\n",
    "pcli.copy(text)\n",
    "pgui.hotkey(\"ctrl\", \"v\")\n",
    "\n",
    "#Enviar e-mail\n",
    "pgui.hotkey(\"ctrl\", \"enter\")\n"
   ]
  },
  {
   "cell_type": "markdown",
   "id": "c0e70e27",
   "metadata": {},
   "source": [
    "# Códiogo zoero kkkk\n",
    "time.sleep(3)\n",
    "pgui.PAUSE = 1\n",
    "\n",
    "pgui.hotkey(\"ctrl\", \"t\")\n",
    "pcli.copy(\"https://www.google.com\")\n",
    "pgui.hotkey(\"ctrl\", \"v\")\n",
    "pgui.press(\"enter\")\n",
    "pgui.click(x=943, y=499)\n",
    "pgui.write(\"the memes jack\")\n",
    "pgui.press(\"enter\")\n",
    "\n",
    "pgui.click(x=342, y=213)\n",
    "time.sleep(0.5)\n",
    "pgui.click(x=1516, y=401)\n",
    "pgui.rightClick(x=1516, y=401)\n",
    "time.sleep(0.9)\n",
    "pgui.click(x=1559, y=637)\n",
    "time.sleep(2)\n",
    "pgui.press(\"enter\")\n",
    "\n",
    "pgui.hotkey(\"ctrl\", \"e\")\n",
    "pcli.copy(\"https://youtu.be/WHujzgKlPqM\")\n",
    "pgui.hotkey(\"ctrl\", \"v\")\n",
    "pgui.press(\"enter\")\n",
    "time.sleep(0.5)\n",
    "pgui.click(x=575, y=515, clicks=2)"
   ]
  },
  {
   "cell_type": "code",
   "execution_count": 15,
   "id": "e8074499",
   "metadata": {},
   "outputs": [
    {
     "name": "stdout",
     "output_type": "stream",
     "text": [
      "\n",
      "Prezados, bom dia\n",
      "\n",
      "O faturamento de ontem foi de R$: 2,917,311.00\n",
      "A quantidade de produtos foi de: 15,227.0\n",
      "\n",
      "Att,\n",
      "\n",
      "Logistica\n",
      "\n"
     ]
    }
   ],
   "source": [
    "print(text)"
   ]
  }
 ],
 "metadata": {
  "kernelspec": {
   "display_name": "Python 3 (ipykernel)",
   "language": "python",
   "name": "python3"
  },
  "language_info": {
   "codemirror_mode": {
    "name": "ipython",
    "version": 3
   },
   "file_extension": ".py",
   "mimetype": "text/x-python",
   "name": "python",
   "nbconvert_exporter": "python",
   "pygments_lexer": "ipython3",
   "version": "3.9.7"
  }
 },
 "nbformat": 4,
 "nbformat_minor": 5
}
